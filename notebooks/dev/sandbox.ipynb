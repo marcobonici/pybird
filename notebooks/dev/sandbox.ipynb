{
 "cells": [
  {
   "cell_type": "code",
   "execution_count": 1,
   "metadata": {},
   "outputs": [
    {
     "name": "stderr",
     "output_type": "stream",
     "text": [
      "2023-11-30 02:29:05.446269: E external/org_tensorflow/tensorflow/compiler/xla/stream_executor/cuda/cuda_driver.cc:267] failed call to cuInit: CUDA_ERROR_NO_DEVICE: no CUDA-capable device is detected\n",
      "WARNING:absl:No GPU/TPU found, falling back to CPU. (Set TF_CPP_MIN_LOG_LEVEL=0 and rerun for more info.)\n"
     ]
    }
   ],
   "source": [
    "import os, sys\n",
    "# import numpy as np\n",
    "import jax.numpy as np\n",
    "import matplotlib.pyplot as plt\n",
    "\n",
    "from jax import grad, jit\n",
    "\n",
    "from classy import Class\n",
    "from pybird.correlator import Correlator"
   ]
  },
  {
   "cell_type": "code",
   "execution_count": 2,
   "metadata": {},
   "outputs": [],
   "source": [
    "# N = Correlator()\n",
    "\n",
    "# N.set({'output': 'bPk', 'multipole': 2, 'kmax': 0.3, \n",
    "#        'with_resum': False, # 'with_bias': True, \n",
    "#        'km': 0.7, 'kr': 0.35, 'nd': 3e-4, \n",
    "#        'eft_basis': 'eftoflss', 'with_stoch': True}) \n",
    "\n",
    "# # cosmo_lin.update({'bias': eft_params})"
   ]
  },
  {
   "cell_type": "markdown",
   "metadata": {},
   "source": [
    "dev mode, reload the following: "
   ]
  },
  {
   "cell_type": "code",
   "execution_count": 3,
   "metadata": {},
   "outputs": [],
   "source": [
    "import importlib, pybird\n",
    "importlib.reload(pybird.correlator)\n",
    "from pybird.correlator import Correlator"
   ]
  },
  {
   "cell_type": "markdown",
   "metadata": {},
   "source": [
    "### Linear cosmology"
   ]
  },
  {
   "cell_type": "code",
   "execution_count": 4,
   "metadata": {},
   "outputs": [],
   "source": [
    "z = .5"
   ]
  },
  {
   "cell_type": "code",
   "execution_count": 5,
   "metadata": {},
   "outputs": [],
   "source": [
    "M = Class()\n",
    "cosmo = {'omega_b': 0.02235, 'omega_cdm': 0.120, 'h': 0.675, 'ln10^{10}A_s': 3.044, 'n_s': 0.965}\n",
    "M.set(cosmo)\n",
    "M.set({'output': 'mPk', 'P_k_max_h/Mpc': 10, 'z_max_pk': z})\n",
    "M.compute()"
   ]
  },
  {
   "cell_type": "code",
   "execution_count": 6,
   "metadata": {},
   "outputs": [],
   "source": [
    "kk = np.logspace(-5, 1, 300)\n",
    "pk_lin = np.array([M.pk_lin(k*M.h(), z)*M.h()**3 for k in kk]) \n",
    "\n",
    "from scipy.interpolate import interp1d\n",
    "ipk_lin = interp1d(kk, pk_lin, kind='cubic')\n",
    "\n",
    "D1, f1 = M.scale_independent_growth_factor(z), M.scale_independent_growth_factor_f(z), \n",
    "A_s, Omega0_m = 1e-10 * np.exp(cosmo['ln10^{10}A_s']), M.Omega0_m()\n",
    "\n",
    "cosmo_lin = {'kk': kk, 'pk_lin': pk_lin, 'f': f1, } # 'D': D1, 'z': z, 'Omega0_m': Omega0_m}"
   ]
  },
  {
   "cell_type": "markdown",
   "metadata": {},
   "source": [
    "### PyBird benchmark"
   ]
  },
  {
   "cell_type": "markdown",
   "metadata": {},
   "source": [
    "Loading some fiducial EFT parameters for testing"
   ]
  },
  {
   "cell_type": "code",
   "execution_count": 7,
   "metadata": {},
   "outputs": [
    {
     "name": "stdout",
     "output_type": "stream",
     "text": [
      "{'b1': 1.9536, 'c2': 0.5865, 'c4': 0.0, 'b3': -0.3595, 'cct': 0.1821, 'cr1': -0.8417, 'cr2': -0.808, 'ce0': 1.4954, 'ce1': 0.0, 'ce2': -1.6292, 'b2': 0.4147, 'b4': 0.4147}\n"
     ]
    }
   ],
   "source": [
    "outdir = os.path.join(os.path.expanduser('~'), 'share', 'pybird', 'data', 'eftboss', 'out')\n",
    "with open(os.path.join(outdir, 'fit_boss_onesky_pk_wc_cmass_ngc_l0.dat')) as f: data_file = f.read()\n",
    "eft_params_str = data_file.split(', \\n')[1].replace(\"# \", \"\")\n",
    "eft_params = {key: float(value) for key, value in (pair.split(': ') for pair in eft_params_str.split(', '))}\n",
    "print (eft_params)"
   ]
  },
  {
   "cell_type": "markdown",
   "metadata": {},
   "source": [
    "Setting PyBird correlator class in normal mode for benchmark"
   ]
  },
  {
   "cell_type": "code",
   "execution_count": 8,
   "metadata": {},
   "outputs": [],
   "source": [
    "import importlib, pybird\n",
    "importlib.reload(pybird.correlator)\n",
    "from pybird.correlator import Correlator"
   ]
  },
  {
   "cell_type": "code",
   "execution_count": 9,
   "metadata": {},
   "outputs": [],
   "source": [
    "N = Correlator()\n",
    "\n",
    "N.set({'output': 'bPk', 'multipole': 2, 'kmax': 0.3, \n",
    "       'with_resum': False, # 'with_bias': True, \n",
    "       'km': 0.7, 'kr': 0.35, 'nd': 3e-4, \n",
    "       'eft_basis': 'eftoflss', 'with_stoch': True}) \n",
    "\n",
    "# cosmo_lin.update({'bias': eft_params})"
   ]
  },
  {
   "cell_type": "markdown",
   "metadata": {},
   "source": [
    "internal PyBird k array on which the predictions is computed (as we do not specify option `'xdata'`)"
   ]
  },
  {
   "cell_type": "code",
   "execution_count": 10,
   "metadata": {},
   "outputs": [],
   "source": [
    "k0 = N.co.k"
   ]
  },
  {
   "cell_type": "markdown",
   "metadata": {},
   "source": [
    "Computation in normal mode for benchmark"
   ]
  },
  {
   "cell_type": "code",
   "execution_count": 11,
   "metadata": {},
   "outputs": [
    {
     "ename": "ConcretizationTypeError",
     "evalue": "Abstract tracer value encountered where concrete value is expected: Traced<ShapedArray(bool[])>with<DynamicJaxprTrace(level=0/1)>\nThe problem arose with the `bool` function. \nThe error occurred while tracing the function Coef at /cluster/work/senatore/pybird/pybird/fftlog.py:79 for jit. This concrete value was not available in Python because it depends on the value of the argument 'xin'.\n\nSee https://jax.readthedocs.io/en/latest/errors.html#jax.errors.ConcretizationTypeError",
     "output_type": "error",
     "traceback": [
      "\u001b[0;31m---------------------------------------------------------------------------\u001b[0m",
      "\u001b[0;31mConcretizationTypeError\u001b[0m                   Traceback (most recent call last)",
      "Input \u001b[0;32mIn [11]\u001b[0m, in \u001b[0;36m<cell line: 1>\u001b[0;34m()\u001b[0m\n\u001b[0;32m----> 1\u001b[0m \u001b[43mN\u001b[49m\u001b[38;5;241;43m.\u001b[39;49m\u001b[43mcompute\u001b[49m\u001b[43m(\u001b[49m\u001b[43mcosmo_lin\u001b[49m\u001b[43m)\u001b[49m \n\u001b[1;32m      2\u001b[0m bpk_0 \u001b[38;5;241m=\u001b[39m N\u001b[38;5;241m.\u001b[39mget(eft_params)\n",
      "File \u001b[0;32m/cluster/work/senatore/pybird/pybird/correlator.py:292\u001b[0m, in \u001b[0;36mCorrelator.compute\u001b[0;34m(self, cosmo_dict, cosmo_module, cosmo_engine, correlator_engine, do_core, do_survey_specific)\u001b[0m\n\u001b[1;32m    290\u001b[0m     \u001b[38;5;28;01mif\u001b[39;00m \u001b[38;5;28mself\u001b[39m\u001b[38;5;241m.\u001b[39mc[\u001b[38;5;124m\"\u001b[39m\u001b[38;5;124mwith_cf\u001b[39m\u001b[38;5;124m\"\u001b[39m]: \u001b[38;5;28mself\u001b[39m\u001b[38;5;241m.\u001b[39mnnlo_counterterm\u001b[38;5;241m.\u001b[39mCf(\u001b[38;5;28mself\u001b[39m\u001b[38;5;241m.\u001b[39mbird, ilogPsmooth)\n\u001b[1;32m    291\u001b[0m     \u001b[38;5;28;01melse\u001b[39;00m: \u001b[38;5;28mself\u001b[39m\u001b[38;5;241m.\u001b[39mnnlo_counterterm\u001b[38;5;241m.\u001b[39mPs(\u001b[38;5;28mself\u001b[39m\u001b[38;5;241m.\u001b[39mbird, ilogPsmooth)\n\u001b[0;32m--> 292\u001b[0m \u001b[38;5;28;01mif\u001b[39;00m \u001b[38;5;129;01mnot\u001b[39;00m correlator_engine: \u001b[38;5;28;43mself\u001b[39;49m\u001b[38;5;241;43m.\u001b[39;49m\u001b[43mnonlinear\u001b[49m\u001b[38;5;241;43m.\u001b[39;49m\u001b[43mPsCf\u001b[49m\u001b[43m(\u001b[49m\u001b[38;5;28;43mself\u001b[39;49m\u001b[38;5;241;43m.\u001b[39;49m\u001b[43mbird\u001b[49m\u001b[43m)\u001b[49m\n\u001b[1;32m    293\u001b[0m \u001b[38;5;28;01melif\u001b[39;00m correlator_engine: correlator_engine\u001b[38;5;241m.\u001b[39mnonlinear\u001b[38;5;241m.\u001b[39mPsCf(\u001b[38;5;28mself\u001b[39m\u001b[38;5;241m.\u001b[39mbird, c_alpha) \u001b[38;5;66;03m# emu\u001b[39;00m\n\u001b[1;32m    294\u001b[0m \u001b[38;5;28;01mif\u001b[39;00m \u001b[38;5;28mself\u001b[39m\u001b[38;5;241m.\u001b[39mc[\u001b[38;5;124m\"\u001b[39m\u001b[38;5;124mwith_uvmatch_2\u001b[39m\u001b[38;5;124m\"\u001b[39m]: \u001b[38;5;28mself\u001b[39m\u001b[38;5;241m.\u001b[39mmatching\u001b[38;5;241m.\u001b[39mUVPsCf(\u001b[38;5;28mself\u001b[39m\u001b[38;5;241m.\u001b[39mbird) \n",
      "File \u001b[0;32m/cluster/work/senatore/pybird/pybird/nonlinear.py:261\u001b[0m, in \u001b[0;36mNonLinear.PsCf\u001b[0;34m(self, bird, window)\u001b[0m\n\u001b[1;32m    253\u001b[0m \u001b[38;5;28;01mdef\u001b[39;00m \u001b[38;5;21mPsCf\u001b[39m(\u001b[38;5;28mself\u001b[39m, bird, window\u001b[38;5;241m=\u001b[39m\u001b[38;5;28;01mNone\u001b[39;00m):\n\u001b[1;32m    254\u001b[0m     \u001b[38;5;124;03m\"\"\" Compute the loop power spectrum and correlation function given a Bird(). Perform the FFTLog and the matrix multiplications.\u001b[39;00m\n\u001b[1;32m    255\u001b[0m \n\u001b[1;32m    256\u001b[0m \u001b[38;5;124;03m    Parameters\u001b[39;00m\n\u001b[0;32m   (...)\u001b[0m\n\u001b[1;32m    259\u001b[0m \u001b[38;5;124;03m        an object of type Bird()\u001b[39;00m\n\u001b[1;32m    260\u001b[0m \u001b[38;5;124;03m    \"\"\"\u001b[39;00m\n\u001b[0;32m--> 261\u001b[0m     coef \u001b[38;5;241m=\u001b[39m \u001b[38;5;28;43mself\u001b[39;49m\u001b[38;5;241;43m.\u001b[39;49m\u001b[43mCoef\u001b[49m\u001b[43m(\u001b[49m\u001b[43mbird\u001b[49m\u001b[43m,\u001b[49m\u001b[43m \u001b[49m\u001b[43mwindow\u001b[49m\u001b[38;5;241;43m=\u001b[39;49m\u001b[38;5;241;43m.2\u001b[39;49m\u001b[43m)\u001b[49m\n\u001b[1;32m    263\u001b[0m     coefkPow \u001b[38;5;241m=\u001b[39m \u001b[38;5;28mself\u001b[39m\u001b[38;5;241m.\u001b[39mCoefkPow(coef)\n\u001b[1;32m    264\u001b[0m     \u001b[38;5;28mself\u001b[39m\u001b[38;5;241m.\u001b[39mmakeP22(coefkPow, bird)\n",
      "File \u001b[0;32m/cluster/work/senatore/pybird/pybird/nonlinear.py:221\u001b[0m, in \u001b[0;36mNonLinear.Coef\u001b[0;34m(self, bird, window)\u001b[0m\n\u001b[1;32m    219\u001b[0m \u001b[38;5;28;01mif\u001b[39;00m is_jax:\n\u001b[1;32m    220\u001b[0m     coef_jit \u001b[38;5;241m=\u001b[39m jit(\u001b[38;5;28mself\u001b[39m\u001b[38;5;241m.\u001b[39mfft\u001b[38;5;241m.\u001b[39mCoef)\n\u001b[0;32m--> 221\u001b[0m     \u001b[38;5;28;01mreturn\u001b[39;00m \u001b[43mcoef_jit\u001b[49m\u001b[43m(\u001b[49m\u001b[43mbird\u001b[49m\u001b[38;5;241;43m.\u001b[39;49m\u001b[43mkin\u001b[49m\u001b[43m,\u001b[49m\u001b[43m \u001b[49m\u001b[43mbird\u001b[49m\u001b[38;5;241;43m.\u001b[39;49m\u001b[43mPin_2\u001b[49m\u001b[43m,\u001b[49m\u001b[43m \u001b[49m\u001b[43mwindow\u001b[49m\u001b[38;5;241;43m=\u001b[39;49m\u001b[43mwindow\u001b[49m\u001b[43m)\u001b[49m\n\u001b[1;32m    222\u001b[0m \u001b[38;5;28;01melse\u001b[39;00m: \u001b[38;5;28;01mreturn\u001b[39;00m \u001b[38;5;28mself\u001b[39m\u001b[38;5;241m.\u001b[39mfft\u001b[38;5;241m.\u001b[39mCoef(bird\u001b[38;5;241m.\u001b[39mkin, bird\u001b[38;5;241m.\u001b[39mPin_2, window\u001b[38;5;241m=\u001b[39mwindow)\n",
      "    \u001b[0;31m[... skipping hidden 14 frame]\u001b[0m\n",
      "File \u001b[0;32m/cluster/work/senatore/pybird/pybird/fftlog.py:89\u001b[0m, in \u001b[0;36mFFTLog.Coef\u001b[0;34m(self, xin, f, extrap, window)\u001b[0m\n\u001b[1;32m     87\u001b[0m \u001b[38;5;28;01mif\u001b[39;00m extrap \u001b[38;5;241m==\u001b[39m \u001b[38;5;124m'\u001b[39m\u001b[38;5;124mextrap\u001b[39m\u001b[38;5;124m'\u001b[39m:\n\u001b[1;32m     88\u001b[0m     nslow, Aslow \u001b[38;5;241m=\u001b[39m \u001b[38;5;241m0\u001b[39m, \u001b[38;5;241m0\u001b[39m\n\u001b[0;32m---> 89\u001b[0m     \u001b[38;5;28;01mif\u001b[39;00m xin[\u001b[38;5;241m0\u001b[39m] \u001b[38;5;241m>\u001b[39m \u001b[38;5;28mself\u001b[39m\u001b[38;5;241m.\u001b[39mx[\u001b[38;5;241m0\u001b[39m]:\n\u001b[1;32m     90\u001b[0m         \u001b[38;5;66;03m#print ('low extrapolation')\u001b[39;00m\n\u001b[1;32m     91\u001b[0m         \u001b[38;5;28;01mif\u001b[39;00m f[\u001b[38;5;241m0\u001b[39m] \u001b[38;5;241m*\u001b[39m f[\u001b[38;5;241m1\u001b[39m] \u001b[38;5;241m!=\u001b[39m \u001b[38;5;241m0.\u001b[39m:\n\u001b[1;32m     92\u001b[0m             nslow \u001b[38;5;241m=\u001b[39m (log(f[\u001b[38;5;241m1\u001b[39m]) \u001b[38;5;241m-\u001b[39m log(f[\u001b[38;5;241m0\u001b[39m])) \u001b[38;5;241m/\u001b[39m (log(xin[\u001b[38;5;241m1\u001b[39m]) \u001b[38;5;241m-\u001b[39m log(xin[\u001b[38;5;241m0\u001b[39m]))\n",
      "    \u001b[0;31m[... skipping hidden 1 frame]\u001b[0m\n",
      "File \u001b[0;32m/cluster/apps/nss/gcc-8.2.0/python/3.10.4/x86_64/lib64/python3.10/site-packages/jax/core.py:1189\u001b[0m, in \u001b[0;36mconcretization_function_error.<locals>.error\u001b[0;34m(self, arg)\u001b[0m\n\u001b[1;32m   1188\u001b[0m \u001b[38;5;28;01mdef\u001b[39;00m \u001b[38;5;21merror\u001b[39m(\u001b[38;5;28mself\u001b[39m, arg):\n\u001b[0;32m-> 1189\u001b[0m   \u001b[38;5;28;01mraise\u001b[39;00m ConcretizationTypeError(arg, fname_context)\n",
      "\u001b[0;31mConcretizationTypeError\u001b[0m: Abstract tracer value encountered where concrete value is expected: Traced<ShapedArray(bool[])>with<DynamicJaxprTrace(level=0/1)>\nThe problem arose with the `bool` function. \nThe error occurred while tracing the function Coef at /cluster/work/senatore/pybird/pybird/fftlog.py:79 for jit. This concrete value was not available in Python because it depends on the value of the argument 'xin'.\n\nSee https://jax.readthedocs.io/en/latest/errors.html#jax.errors.ConcretizationTypeError"
     ]
    }
   ],
   "source": [
    "N.compute(cosmo_lin) \n",
    "bpk_0 = N.get(eft_params)"
   ]
  },
  {
   "cell_type": "code",
   "execution_count": null,
   "metadata": {},
   "outputs": [],
   "source": [
    "# N.nonlinear.PsCf(N.bird)"
   ]
  },
  {
   "cell_type": "code",
   "execution_count": null,
   "metadata": {},
   "outputs": [],
   "source": [
    "plt.figure(figsize=(7,2))\n",
    "for i in range(2): plt.plot(k0, k0 * bpk_0[i], label=r'$\\ell=%s$' % (2*i))\n",
    "plt.xlabel(r'$k \\ [h/{\\rm Mpc}]$')\n",
    "plt.ylabel(r'$k \\ P_\\ell(k) \\ [{\\rm Mpc}/h]^2$')\n",
    "plt.legend()\n",
    "plt.show()"
   ]
  },
  {
   "cell_type": "code",
   "execution_count": null,
   "metadata": {},
   "outputs": [],
   "source": []
  },
  {
   "cell_type": "code",
   "execution_count": null,
   "metadata": {},
   "outputs": [],
   "source": []
  },
  {
   "cell_type": "code",
   "execution_count": null,
   "metadata": {},
   "outputs": [],
   "source": []
  },
  {
   "cell_type": "code",
   "execution_count": null,
   "metadata": {},
   "outputs": [],
   "source": []
  },
  {
   "cell_type": "code",
   "execution_count": 18,
   "metadata": {},
   "outputs": [],
   "source": [
    "def CoefWindow(N, window=1, left=True, right=True):\n",
    "    \"\"\" FFTLog auxiliary function: window sending the FFT coefficients to 0 at the edges. Adapted from fast-pt \"\"\"\n",
    "    n = np.arange(-N // 2, N // 2 + 1)\n",
    "    if window == 1:\n",
    "        n_cut = N // 2\n",
    "    else:\n",
    "        n_cut = int(window * N // 2.)\n",
    "\n",
    "    n_right = n[-1] - n_cut\n",
    "    n_left = n[0] + n_cut\n",
    "\n",
    "    n_r = n[n[:] > n_right]\n",
    "    n_l = n[n[:] < n_left]\n",
    "\n",
    "    theta_right = (n[-1] - n_r) / float(n[-1] - n_right - 1)\n",
    "    theta_left = (n_l - n[0]) / float(n_left - n[0] - 1)\n",
    "    \n",
    "    # W = ones(n.size)\n",
    "    # if right: W[n[:] > n_right] = theta_right - 1 / (2. * pi) * sin(2 * pi * theta_right)\n",
    "    # if left: W[n[:] < n_left] = theta_left - 1 / (2. * pi) * sin(2 * pi * theta_left)\n",
    "    \n",
    "    W = np.ones(n.size - theta_right.size - theta_left.size)\n",
    "    if left and not np.isnan(theta_left).any(): W = np.concatenate((theta_left - 1 / (2. * np.pi) * np.sin(2 * np.pi * theta_left), W))\n",
    "    if right and not np.isnan(theta_right).any(): W = np.concatenate((W, theta_right - 1 / (2. * np.pi) * np.sin(2 * np.pi * theta_right)))\n",
    "    \n",
    "    return W\n",
    "    "
   ]
  },
  {
   "cell_type": "code",
   "execution_count": 15,
   "metadata": {},
   "outputs": [
    {
     "name": "stdout",
     "output_type": "stream",
     "text": [
      "0.0\n"
     ]
    },
    {
     "data": {
      "text/plain": [
       "[<matplotlib.lines.Line2D at 0x2b1fef26b160>]"
      ]
     },
     "execution_count": 15,
     "metadata": {},
     "output_type": "execute_result"
    },
    {
     "data": {
      "image/png": "[encoded data removed]",
      "text/plain": [
       "<Figure size 432x288 with 1 Axes>"
      ]
     },
     "metadata": {
      "needs_background": "light"
     },
     "output_type": "display_data"
    }
   ],
   "source": [
    "plt.plot( CoefWindow(16, 0.2) )"
   ]
  },
  {
   "cell_type": "code",
   "execution_count": 16,
   "metadata": {},
   "outputs": [
    {
     "name": "stdout",
     "output_type": "stream",
     "text": [
      "0.0\n"
     ]
    },
    {
     "data": {
      "text/plain": [
       "DeviceArray([1., 1., 1., 1., 1., 1., 1., 1., 1., 1., 1., 1., 1., 1., 1.],            dtype=float32)"
      ]
     },
     "execution_count": 16,
     "metadata": {},
     "output_type": "execute_result"
    }
   ],
   "source": [
    "CoefWindow(16, 0.2)"
   ]
  },
  {
   "cell_type": "code",
   "execution_count": 17,
   "metadata": {},
   "outputs": [
    {
     "name": "stdout",
     "output_type": "stream",
     "text": [
      "0.0\n"
     ]
    },
    {
     "data": {
      "text/plain": [
       "15"
      ]
     },
     "execution_count": 17,
     "metadata": {},
     "output_type": "execute_result"
    }
   ],
   "source": [
    "len (CoefWindow(16, 0.2))"
   ]
  },
  {
   "cell_type": "code",
   "execution_count": null,
   "metadata": {},
   "outputs": [],
   "source": []
  }
 ],
 "metadata": {
  "kernelspec": {
   "display_name": "Python 3 (ipykernel)",
   "language": "python",
   "name": "python3"
  },
  "language_info": {
   "codemirror_mode": {
    "name": "ipython",
    "version": 3
   },
   "file_extension": ".py",
   "mimetype": "text/x-python",
   "name": "python",
   "nbconvert_exporter": "python",
   "pygments_lexer": "ipython3",
   "version": "3.10.4"
  }
 },
 "nbformat": 4,
 "nbformat_minor": 4
}
